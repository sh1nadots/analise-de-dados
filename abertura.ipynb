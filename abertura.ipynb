{
 "cells": [
  {
   "cell_type": "code",
   "execution_count": 1,
   "id": "b31abfb8",
   "metadata": {},
   "outputs": [
    {
     "name": "stdout",
     "output_type": "stream",
     "text": [
      "Requirement already satisfied: pyautogui in c:\\users\\loja norte\\anaconda3\\lib\\site-packages (0.9.53)\n",
      "Requirement already satisfied: pygetwindow>=0.0.5 in c:\\users\\loja norte\\anaconda3\\lib\\site-packages (from pyautogui) (0.0.9)\n",
      "Requirement already satisfied: pyscreeze>=0.1.21 in c:\\users\\loja norte\\anaconda3\\lib\\site-packages (from pyautogui) (0.1.28)\n",
      "Requirement already satisfied: PyTweening>=1.0.1 in c:\\users\\loja norte\\anaconda3\\lib\\site-packages (from pyautogui) (1.0.4)\n",
      "Requirement already satisfied: pymsgbox in c:\\users\\loja norte\\anaconda3\\lib\\site-packages (from pyautogui) (1.0.9)\n",
      "Requirement already satisfied: mouseinfo in c:\\users\\loja norte\\anaconda3\\lib\\site-packages (from pyautogui) (0.1.3)\n",
      "Requirement already satisfied: pyrect in c:\\users\\loja norte\\anaconda3\\lib\\site-packages (from pygetwindow>=0.0.5->pyautogui) (0.2.0)\n",
      "Requirement already satisfied: pyperclip in c:\\users\\loja norte\\anaconda3\\lib\\site-packages (from mouseinfo->pyautogui) (1.8.2)\n"
     ]
    }
   ],
   "source": [
    "!pip install pyautogui"
   ]
  },
  {
   "cell_type": "code",
   "execution_count": 3,
   "id": "1bfed617",
   "metadata": {},
   "outputs": [],
   "source": [
    "\n",
    "import pyautogui as pt \n",
    "import time\n",
    "\n",
    "pt.PAUSE = 0.5\n",
    "pt.press('winleft')\n",
    "pt.write('chrome')\n",
    "pt.press('enter') \n",
    "pt.write('web') \n",
    "pt.press('enter') \n",
    "\n",
    "\n"
  
   ],
   "source": [
    "pt.position()\n",
    "pt.click(x=224, y=744) \n",
    "time.sleep = 5\n",
    "pt.PAUSE = 2\n",
    "pt.press('right') \n",
    "pt.press('enter') \n",
    "pt.write('VICTORP')\n",
    "pt.press('enter')\n",
    "pt.write('VP123')\n",
    "pt.press('enter') \n",
    "pt.hotkey('ctrl','enter')\n",
    "pt.press('enter') \n",
    "pt.write('100') \n",
    "pt.press('enter') \n",
    "\n"
   ]
  
   ],
   "source": [
    "\n",
    "pt.PAUSE = 0.5\n",
    "pt.press('winleft')\n",
    "pt.press('e')\n",
    "pt.press('enter')\n",
    "pt.press('alt')\n",
    "pt.press('a')\n",
    "pt.press('tab','tab','tab','tab','tab')\n",
    "pt.press('enter')\n"
   ]
  },
  {
   "cell_type": "code",
   "execution_count": null,
   "id": "5610aee3",
   "metadata": {},
   "outputs": [],
   "source": []
  }
 ],
 "metadata": {
  "kernelspec": {
   "display_name": "Python 3 (ipykernel)",
   "language": "python",
   "name": "python3"
  },
  "language_info": {
   "codemirror_mode": {
    "name": "ipython",
    "version": 3
   },
   "file_extension": ".py",
   "mimetype": "text/x-python",
   "name": "python",
   "nbconvert_exporter": "python",
   "pygments_lexer": "ipython3",
   "version": "3.10.9"
  }
 },
 "nbformat": 4,
 "nbformat_minor": 5
}
